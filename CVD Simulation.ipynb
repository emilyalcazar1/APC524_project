{
 "cells": [
  {
   "cell_type": "code",
   "execution_count": 173,
   "id": "1e33f792",
   "metadata": {},
   "outputs": [],
   "source": [
    "#  Kinetic Monte Carlo Calculation of Chemical Vapor Deposition\n",
    "#\n",
    "#  Based on C. Battaille and D. J. Srolovitz, Annual Reviews of Materials\n",
    "#  Research, 32,  2002.\n",
    "#\n",
    "#  input:\n",
    "#       nsites = number of surface sites in model\n",
    "#       timesteps = number of kinetic Monte Carlo Steps (MCS)\n",
    "#       cmax = maximum height expected in simulation (used to set dimensions)\n",
    "#       imageflag = whether to save images for video making: 1 = yes, 0 = no.\n",
    "#       reaction rates  (ste after function input)\n",
    "#\n",
    "#  output:\n",
    "#       tot = array with species at most recent timestep\n",
    "#       tottime = 3D array giving time step arrays (3D) of the simulation.\n",
    "#       height = array of heights at each site\n",
    "#       species = chemical composition at surface at each site\n",
    "#       time = KMC time\n",
    "#       tota = Overall surface activity over time\n",
    "#       aveh = average height at each timestep\n",
    "\n",
    "import matplotlib.pyplot as plt\n",
    "from colorspacious import cspace_converter\n",
    "\n",
    "import matplotlib as mpl\n",
    "\n",
    "import numpy as np\n",
    "\n",
    "import random as rm\n",
    "\n",
    "def KMC_358(nsites = None,timesteps = None,cmax = None,imageflag = None): \n",
    "    \n",
    "    #\"Insert Description\"\n",
    "    #\n",
    "    #\n",
    "    #\n",
    "    #\n",
    "    \n",
    "    \n",
    "    #Set the rates of the reaction coefficients.\n",
    "    \n",
    "    r1 = 0;\n",
    "    \n",
    "    rm1 = 500;\n",
    "    \n",
    "    r2 = 500;\n",
    "    \n",
    "    rm2 = 0;\n",
    "    \n",
    "    r3 = 500;\n",
    "\n",
    "    \n",
    "    # \"ar\" defines an array of the specific activities for each species: [A(s), B(s), AB2(s), *(s)]\n",
    "\n",
    "    ar = np.array([0,rm1,rm2 + r3,r1 + r2])\n",
    "\n",
    "\n",
    "    #  set up the matrices needed\n",
    "    \n",
    "    tot = np.zeros((nsites,cmax))\n",
    "\n",
    "    height = np.zeros((nsites,1))\n",
    "\n",
    "    species = np.zeros((nsites,1))\n",
    "\n",
    "    act = np.zeros((nsites,1))\n",
    "\n",
    "    aveh = np.zeros((timesteps + 1,1))\n",
    "\n",
    "    tota = np.zeros((timesteps + 1,1))\n",
    "\n",
    "    time = np.zeros((timesteps + 1,1))\n",
    "\n",
    "\n",
    "    #Set colormapping for visualization\n",
    "\n",
    "    c = np.zeros((5,3))\n",
    "\n",
    "    c[0,:] = np.array([1,1,1])\n",
    "\n",
    "    c[1,:] = np.array([0,0,0])\n",
    "\n",
    "    c[2,:] = np.array([0.25,0.25,0.25])\n",
    "\n",
    "    c[3,:] = np.array([0.5,0.5,0.5])\n",
    "\n",
    "    c[4,:] = np.array([0.75,0.75,0.75])\n",
    "    \n",
    "   # Colormap(c)\n",
    "\n",
    "    clims = np.array([0,4])\n",
    "\n",
    "\n",
    "    # create initial state in which one layer of type A is covered by a layer of B\n",
    "\n",
    "    for i in np.arange(0,nsites):\n",
    "        \n",
    "        tot[i,0] = 1\n",
    "        \n",
    "        tot[i,1] = 2\n",
    "        \n",
    "        height[i] = 2\n",
    "        \n",
    "        species[i] = 2\n",
    "        \n",
    "    \n",
    "    tottime = []\n",
    "        \n",
    "    tottime.append(tot)\n",
    "\n",
    "    aveh[0] = 2\n",
    "\n",
    "    time[0] = 0\n",
    "\n",
    "    tm = 0\n",
    "\n",
    "\n",
    "    #loop over the time steps\n",
    "\n",
    "    for timestep in np.arange(1,timesteps+1):\n",
    "        \n",
    "        # Determine the activity at each site\n",
    "        \n",
    "        for i in np.arange(1,nsites+1):\n",
    "            \n",
    "            # Determine the total activity of the system\n",
    "            \n",
    "            k = height[i-1]\n",
    "            \n",
    "            s = species[i-1]            \n",
    "            \n",
    "            act[i-1] = ar[int(s[0])-1]\n",
    "            \n",
    "        # find the activity per site divided by the total activity (the fraction)\n",
    "    \n",
    "        # ss = cumulative sum of fractional activities\n",
    "    \n",
    "        at = sum(act)\n",
    "               \n",
    "        acta = act / at\n",
    "        \n",
    "        ss = np.cumsum(acta)\n",
    "        \n",
    "        tota[0] = at\n",
    "        \n",
    "        # pick the site at which a reaction will occur based on random number and\n",
    "        \n",
    "        # activity number line\n",
    "        \n",
    "        k = 1\n",
    "        \n",
    "        rand1 = rm.randint(0,1)\n",
    "        \n",
    "        for j in np.arange(1,nsites):\n",
    "            \n",
    "            if rand1 > ss[j-1]:\n",
    "                \n",
    "                k = k + 1\n",
    "        \n",
    "        # find the species and height of the selected site.\n",
    "        \n",
    "        t = species[k-1]\n",
    "        \n",
    "        h = height[k-1]\n",
    "        \n",
    "        #use random numbers to select reaction, reset species and height\n",
    "        \n",
    "        if t == 2:\n",
    "            \n",
    "            tot[k-1][int(h[0])] = 4\n",
    "            \n",
    "            species[k-1] = 4\n",
    "        \n",
    "        else:\n",
    "            \n",
    "            if t == 3:\n",
    "                \n",
    "                if rm.randint(0,1) < r3 / (r3 + rm2):\n",
    "                    \n",
    "                    tot[k-1][int(h[0])] = 1\n",
    "                    \n",
    "                    tot[k-1][int(h[0])] = 2\n",
    "                    \n",
    "                    species[k-1] = 2\n",
    "                    \n",
    "                    height[k-1] = h + 1\n",
    "                \n",
    "                else:\n",
    "                    \n",
    "                    tot[k-1][int(h[0])] = 4\n",
    "                    \n",
    "                    species[k-1] = 4\n",
    "            \n",
    "            else:\n",
    "                \n",
    "                if t == 4:\n",
    "                    \n",
    "                    if rm.randint(0,1) < r1 / (r1 + r2):\n",
    "                        \n",
    "                        tot[k-1][int(h[0])] = 2\n",
    "                        \n",
    "                        species[k-1] = 2\n",
    "                    \n",
    "                    else:\n",
    "                        \n",
    "                        tot[k-1][int(h[0])] = 3\n",
    "                        \n",
    "                        species[k-1] = 3\n",
    "\n",
    "        #  find change in time and total time\n",
    "        \n",
    "        rand1 = rm.randint(0,1)\n",
    "        \n",
    "        \n",
    "        dt = - np.log(rand1 + 0.01) / (at + 0.01)\n",
    "        \n",
    "        tm = tm + dt\n",
    "            \n",
    "        time[timestep] = tm\n",
    "        \n",
    "        sh = sum(height)\n",
    "        \n",
    "        aveh[timestep] = sh / nsites\n",
    "        \n",
    "        tota[timestep] = sum(act)\n",
    "        \n",
    "        cat = []\n",
    "        tottime.append(np.ndarray.tolist(tot))\n",
    "        #tottime = cat.append(tot)\n",
    "        \n",
    "        \n",
    "        #Visualization output-----------------------------\n",
    "        \n",
    "      #  if imageflag == 1:\n",
    "            \n",
    "      #      imagesc(rot90(tottime(:,:,timestep)),clims)\n",
    "            \n",
    "      #      colorbar('YTick',np.array([0.4,1.2,2.0,2.8,3.6]),'YTickLabel',np.array(['Open','A(b)','B(s)','AB2','*']))\n",
    "            \n",
    "      #      plt.axis('off')\n",
    "            \n",
    "      #      str_saveas = 'TimeStepImage_%d.png'\n",
    "            \n",
    "      #      str_saveas = sprintf(str_saveas,timestep)\n",
    "            \n",
    "      #      saveas(gcf,str_saveas)\n",
    "\n",
    "    return tot,tottime,height,species,time,aveh,tota"
   ]
  },
  {
   "cell_type": "code",
   "execution_count": 174,
   "id": "a382935f",
   "metadata": {},
   "outputs": [
    {
     "data": {
      "text/plain": [
       "\"\\nplt.figure(1)\\n\\nplt.plot(time,tota,'red')\\n\\nplt.xlabel('Time')\\n\\nplt.ylabel('Overall Surface Activity')\\n\\n\\n\\nplt.figure(2)\\n\\nplt.plot(time,aveh,'red')\\n\\nplt.xlabel('Time')\\n\\nplt.ylabel('Average Height')\\n\""
      ]
     },
     "execution_count": 174,
     "metadata": {},
     "output_type": "execute_result"
    },
    {
     "data": {
      "image/png": "[encoded data removed]",
      "text/plain": [
       "<Figure size 432x288 with 1 Axes>"
      ]
     },
     "metadata": {
      "needs_background": "light"
     },
     "output_type": "display_data"
    },
    {
     "data": {
      "image/png": "[encoded data removed]",
      "text/plain": [
       "<Figure size 432x288 with 1 Axes>"
      ]
     },
     "metadata": {
      "needs_background": "light"
     },
     "output_type": "display_data"
    },
    {
     "data": {
      "image/png": "[encoded data removed]",
      "text/plain": [
       "<Figure size 432x288 with 1 Axes>"
      ]
     },
     "metadata": {
      "needs_background": "light"
     },
     "output_type": "display_data"
    },
    {
     "data": {
      "image/png": "[encoded data removed]",
      "text/plain": [
       "<Figure size 432x288 with 1 Axes>"
      ]
     },
     "metadata": {
      "needs_background": "light"
     },
     "output_type": "display_data"
    },
    {
     "data": {
      "image/png": "[encoded data removed]",
      "text/plain": [
       "<Figure size 432x288 with 1 Axes>"
      ]
     },
     "metadata": {
      "needs_background": "light"
     },
     "output_type": "display_data"
    },
    {
     "data": {
      "image/png": "[encoded data removed]",
      "text/plain": [
       "<Figure size 432x288 with 1 Axes>"
      ]
     },
     "metadata": {
      "needs_background": "light"
     },
     "output_type": "display_data"
    },
    {
     "data": {
      "image/png": "[encoded data removed]",
      "text/plain": [
       "<Figure size 432x288 with 1 Axes>"
      ]
     },
     "metadata": {
      "needs_background": "light"
     },
     "output_type": "display_data"
    },
    {
     "data": {
      "image/png": "[encoded data removed]",
      "text/plain": [
       "<Figure size 432x288 with 1 Axes>"
      ]
     },
     "metadata": {
      "needs_background": "light"
     },
     "output_type": "display_data"
    },
    {
     "data": {
      "image/png": "[encoded data removed]",
      "text/plain": [
       "<Figure size 432x288 with 1 Axes>"
      ]
     },
     "metadata": {
      "needs_background": "light"
     },
     "output_type": "display_data"
    },
    {
     "data": {
      "image/png": "[encoded data removed]",
      "text/plain": [
       "<Figure size 432x288 with 1 Axes>"
      ]
     },
     "metadata": {
      "needs_background": "light"
     },
     "output_type": "display_data"
    },
    {
     "data": {
      "image/png": "[encoded data removed]",
      "text/plain": [
       "<Figure size 432x288 with 1 Axes>"
      ]
     },
     "metadata": {
      "needs_background": "light"
     },
     "output_type": "display_data"
    }
   ],
   "source": [
    "data = KMC_358(5,10,10,1)\n",
    "tot = data[1]\n",
    "\n",
    "\n",
    "for i in range(len(tot)):\n",
    "    plt.figure(i)\n",
    "    plt.imshow(tot[i],interpolation = 'none')\n",
    "\n",
    "\"\"\"\n",
    "plt.figure(1)\n",
    "\n",
    "plt.plot(time,tota,'red')\n",
    "\n",
    "plt.xlabel('Time')\n",
    "\n",
    "plt.ylabel('Overall Surface Activity')\n",
    "\n",
    "\n",
    "\n",
    "plt.figure(2)\n",
    "\n",
    "plt.plot(time,aveh,'red')\n",
    "\n",
    "plt.xlabel('Time')\n",
    "\n",
    "plt.ylabel('Average Height')\n",
    "\"\"\""
   ]
  },
  {
   "cell_type": "code",
   "execution_count": 175,
   "id": "3087a745",
   "metadata": {},
   "outputs": [
    {
     "name": "stdout",
     "output_type": "stream",
     "text": [
      "[array([[1., 2., 2., 3., 0., 0., 0., 0., 0., 0.],\n",
      "       [1., 2., 0., 0., 0., 0., 0., 0., 0., 0.],\n",
      "       [1., 2., 0., 0., 0., 0., 0., 0., 0., 0.],\n",
      "       [1., 2., 0., 0., 0., 0., 0., 0., 0., 0.],\n",
      "       [1., 2., 4., 0., 0., 0., 0., 0., 0., 0.]]), [[1.0, 2.0, 4.0, 0.0, 0.0, 0.0, 0.0, 0.0, 0.0, 0.0], [1.0, 2.0, 0.0, 0.0, 0.0, 0.0, 0.0, 0.0, 0.0, 0.0], [1.0, 2.0, 0.0, 0.0, 0.0, 0.0, 0.0, 0.0, 0.0, 0.0], [1.0, 2.0, 0.0, 0.0, 0.0, 0.0, 0.0, 0.0, 0.0, 0.0], [1.0, 2.0, 0.0, 0.0, 0.0, 0.0, 0.0, 0.0, 0.0, 0.0]], [[1.0, 2.0, 3.0, 0.0, 0.0, 0.0, 0.0, 0.0, 0.0, 0.0], [1.0, 2.0, 0.0, 0.0, 0.0, 0.0, 0.0, 0.0, 0.0, 0.0], [1.0, 2.0, 0.0, 0.0, 0.0, 0.0, 0.0, 0.0, 0.0, 0.0], [1.0, 2.0, 0.0, 0.0, 0.0, 0.0, 0.0, 0.0, 0.0, 0.0], [1.0, 2.0, 0.0, 0.0, 0.0, 0.0, 0.0, 0.0, 0.0, 0.0]], [[1.0, 2.0, 4.0, 0.0, 0.0, 0.0, 0.0, 0.0, 0.0, 0.0], [1.0, 2.0, 0.0, 0.0, 0.0, 0.0, 0.0, 0.0, 0.0, 0.0], [1.0, 2.0, 0.0, 0.0, 0.0, 0.0, 0.0, 0.0, 0.0, 0.0], [1.0, 2.0, 0.0, 0.0, 0.0, 0.0, 0.0, 0.0, 0.0, 0.0], [1.0, 2.0, 0.0, 0.0, 0.0, 0.0, 0.0, 0.0, 0.0, 0.0]], [[1.0, 2.0, 3.0, 0.0, 0.0, 0.0, 0.0, 0.0, 0.0, 0.0], [1.0, 2.0, 0.0, 0.0, 0.0, 0.0, 0.0, 0.0, 0.0, 0.0], [1.0, 2.0, 0.0, 0.0, 0.0, 0.0, 0.0, 0.0, 0.0, 0.0], [1.0, 2.0, 0.0, 0.0, 0.0, 0.0, 0.0, 0.0, 0.0, 0.0], [1.0, 2.0, 0.0, 0.0, 0.0, 0.0, 0.0, 0.0, 0.0, 0.0]], [[1.0, 2.0, 3.0, 0.0, 0.0, 0.0, 0.0, 0.0, 0.0, 0.0], [1.0, 2.0, 0.0, 0.0, 0.0, 0.0, 0.0, 0.0, 0.0, 0.0], [1.0, 2.0, 0.0, 0.0, 0.0, 0.0, 0.0, 0.0, 0.0, 0.0], [1.0, 2.0, 0.0, 0.0, 0.0, 0.0, 0.0, 0.0, 0.0, 0.0], [1.0, 2.0, 4.0, 0.0, 0.0, 0.0, 0.0, 0.0, 0.0, 0.0]], [[1.0, 2.0, 3.0, 0.0, 0.0, 0.0, 0.0, 0.0, 0.0, 0.0], [1.0, 2.0, 0.0, 0.0, 0.0, 0.0, 0.0, 0.0, 0.0, 0.0], [1.0, 2.0, 0.0, 0.0, 0.0, 0.0, 0.0, 0.0, 0.0, 0.0], [1.0, 2.0, 0.0, 0.0, 0.0, 0.0, 0.0, 0.0, 0.0, 0.0], [1.0, 2.0, 3.0, 0.0, 0.0, 0.0, 0.0, 0.0, 0.0, 0.0]], [[1.0, 2.0, 2.0, 0.0, 0.0, 0.0, 0.0, 0.0, 0.0, 0.0], [1.0, 2.0, 0.0, 0.0, 0.0, 0.0, 0.0, 0.0, 0.0, 0.0], [1.0, 2.0, 0.0, 0.0, 0.0, 0.0, 0.0, 0.0, 0.0, 0.0], [1.0, 2.0, 0.0, 0.0, 0.0, 0.0, 0.0, 0.0, 0.0, 0.0], [1.0, 2.0, 3.0, 0.0, 0.0, 0.0, 0.0, 0.0, 0.0, 0.0]], [[1.0, 2.0, 2.0, 4.0, 0.0, 0.0, 0.0, 0.0, 0.0, 0.0], [1.0, 2.0, 0.0, 0.0, 0.0, 0.0, 0.0, 0.0, 0.0, 0.0], [1.0, 2.0, 0.0, 0.0, 0.0, 0.0, 0.0, 0.0, 0.0, 0.0], [1.0, 2.0, 0.0, 0.0, 0.0, 0.0, 0.0, 0.0, 0.0, 0.0], [1.0, 2.0, 3.0, 0.0, 0.0, 0.0, 0.0, 0.0, 0.0, 0.0]], [[1.0, 2.0, 2.0, 4.0, 0.0, 0.0, 0.0, 0.0, 0.0, 0.0], [1.0, 2.0, 0.0, 0.0, 0.0, 0.0, 0.0, 0.0, 0.0, 0.0], [1.0, 2.0, 0.0, 0.0, 0.0, 0.0, 0.0, 0.0, 0.0, 0.0], [1.0, 2.0, 0.0, 0.0, 0.0, 0.0, 0.0, 0.0, 0.0, 0.0], [1.0, 2.0, 4.0, 0.0, 0.0, 0.0, 0.0, 0.0, 0.0, 0.0]], [[1.0, 2.0, 2.0, 3.0, 0.0, 0.0, 0.0, 0.0, 0.0, 0.0], [1.0, 2.0, 0.0, 0.0, 0.0, 0.0, 0.0, 0.0, 0.0, 0.0], [1.0, 2.0, 0.0, 0.0, 0.0, 0.0, 0.0, 0.0, 0.0, 0.0], [1.0, 2.0, 0.0, 0.0, 0.0, 0.0, 0.0, 0.0, 0.0, 0.0], [1.0, 2.0, 4.0, 0.0, 0.0, 0.0, 0.0, 0.0, 0.0, 0.0]]]\n"
     ]
    }
   ],
   "source": [
    "print(tot)"
   ]
  },
  {
   "cell_type": "code",
   "execution_count": 168,
   "id": "f6c5353f",
   "metadata": {},
   "outputs": [
    {
     "name": "stdout",
     "output_type": "stream",
     "text": [
      "[[0, 0], [1, 1], [2, 2]]\n"
     ]
    }
   ],
   "source": [
    "a1 = [0,0]\n",
    "a2 = [1,1]\n",
    "a3 = [2,2]\n",
    "\n",
    "A = []\n",
    "A.append(a1)\n",
    "A.append(a2)\n",
    "A.append(a3)\n",
    "print(A)"
   ]
  },
  {
   "cell_type": "code",
   "execution_count": 10,
   "id": "56984c83",
   "metadata": {},
   "outputs": [],
   "source": [
    "c[1,:] = np.array([1,1,1])"
   ]
  },
  {
   "cell_type": "code",
   "execution_count": 11,
   "id": "440c1269",
   "metadata": {},
   "outputs": [
    {
     "data": {
      "text/plain": [
       "array([[0., 0., 0.],\n",
       "       [1., 1., 1.],\n",
       "       [0., 0., 0.],\n",
       "       [0., 0., 0.],\n",
       "       [0., 0., 0.]])"
      ]
     },
     "execution_count": 11,
     "metadata": {},
     "output_type": "execute_result"
    }
   ],
   "source": [
    "c"
   ]
  },
  {
   "cell_type": "code",
   "execution_count": 135,
   "id": "1654939b",
   "metadata": {},
   "outputs": [
    {
     "name": "stdout",
     "output_type": "stream",
     "text": [
      "[array([[1., 2., 0., 0., 0., 0., 0., 0., 0., 0.],\n",
      "       [1., 2., 0., 0., 0., 0., 0., 0., 0., 0.],\n",
      "       [1., 2., 0., 0., 0., 0., 0., 0., 0., 0.],\n",
      "       [1., 2., 0., 0., 0., 0., 0., 0., 0., 0.],\n",
      "       [1., 2., 0., 0., 0., 0., 0., 0., 0., 0.]])]\n"
     ]
    }
   ],
   "source": [
    "nsites = 5\n",
    "cmax = 10\n",
    "timesteps = 10\n",
    "\n",
    "tot = np.zeros((nsites,cmax))\n",
    "\n",
    "height = np.zeros((nsites,1))\n",
    "\n",
    "species = np.zeros((nsites,1))\n",
    "\n",
    "act = np.zeros((nsites,1))\n",
    "\n",
    "aveh = np.zeros((timesteps + 1,1))\n",
    "\n",
    "tota = np.zeros((timesteps + 1,1))\n",
    "\n",
    "time = np.zeros((timesteps + 1,1))\n",
    "\n",
    "    # create initial state in which one layer of type A is covered by a layer of B\n",
    "\n",
    "for i in np.arange(0,nsites):\n",
    "        \n",
    "    tot[i,0] = 1\n",
    "        \n",
    "    tot[i,1] = 2\n",
    "        \n",
    "    height[i] = 2\n",
    "        \n",
    "    species[i] = 2\n",
    "        \n",
    "    \n",
    "tottime = []\n",
    "        \n",
    "tottime.append(tot)\n",
    "\n",
    "aveh[0] = 2\n",
    "\n",
    "time[0] = 0\n",
    "\n",
    "tm = 0\n",
    "\n",
    "print(tottime)"
   ]
  },
  {
   "cell_type": "code",
   "execution_count": 145,
   "id": "727d8847",
   "metadata": {},
   "outputs": [],
   "source": [
    "r1 = 0;\n",
    "    \n",
    "rm1 = 500;\n",
    "    \n",
    "r2 = 500;\n",
    "    \n",
    "rm2 = 0;\n",
    "    \n",
    "r3 = 500;\n",
    "    \n",
    "ar = np.array([0,rm1,rm2 + r3,r1 + r2])\n",
    "\n",
    "for timestep in np.arange(0,timesteps):\n",
    "        \n",
    "        # Determine the activity at each site\n",
    "        \n",
    "    for i in np.arange(0,nsites):\n",
    "            \n",
    "            # Determine the total activity of the system\n",
    "            \n",
    "        k = height[i]\n",
    "            \n",
    "        s = species[i]            \n",
    "        \n",
    "        act[i] = ar[int(s[0])-1] #FLAG\n",
    "            \n",
    "        # find the activity per site divided by the total activity (the fraction)\n",
    "    \n",
    "        # ss = cumulative sum of fractional activities\n",
    "    \n",
    "    at = sum(act)\n",
    "               \n",
    "    acta = act / at\n",
    "        \n",
    "    ss = np.cumsum(acta)\n",
    "        \n",
    "    tota[0] = at\n",
    "        \n",
    "        # pick the site at which a reaction will occur based on random number and\n",
    "        \n",
    "        # activity number line\n",
    "        \n",
    "    k = 0\n",
    "        \n",
    "    rand1 = rm.randint(0,1)\n",
    "        \n",
    "    for j in np.arange(0,nsites-1):\n",
    "            \n",
    "        if rand1 > ss[j]:\n",
    "        \n",
    "            k = k + 1\n",
    "        \n",
    "        # find the species and height of the selected site.\n",
    "        \n",
    "    t = species[k-1]\n",
    "        \n",
    "    h = height[k-1]\n",
    "        \n",
    "        #use random numbers to select reaction, reset species and height\n",
    "        \n",
    "    if t == 2:\n",
    "            \n",
    "        tot[k-1][int(h[0])] = 4\n",
    "            \n",
    "        species[k-1] = 4\n",
    "        \n",
    "    else:\n",
    "            \n",
    "        if t == 3:\n",
    "                \n",
    "            if rm.randint(0,1) < r3 / (r3 + rm2):\n",
    "                    \n",
    "                tot[k][int(h[0])] = 1\n",
    "                    \n",
    "                tot[k][int(h[0])+1] = 2\n",
    "                    \n",
    "                species[k] = 2\n",
    "                    \n",
    "                height[k] = h + 1\n",
    "                \n",
    "            else:\n",
    "                    \n",
    "                tot[k][int(h[0])] = 4\n",
    "                    \n",
    "                species[k] = 4\n",
    "            \n",
    "        else:\n",
    "                \n",
    "            if t == 4:\n",
    "                    \n",
    "                if rm.randint(0,1) < r1 / (r1 + r2):\n",
    "                        \n",
    "                    tot[k][int(h[0])] = 2\n",
    "                        \n",
    "                    species[k] = 2\n",
    "                    \n",
    "                else:\n",
    "                        \n",
    "                    tot[k][int(h[0])] = 3\n",
    "                        \n",
    "                    species[k] = 3"
   ]
  },
  {
   "cell_type": "code",
   "execution_count": null,
   "id": "8f12d117",
   "metadata": {},
   "outputs": [],
   "source": [
    "data = KMC_358(5,10,10,1)\n",
    "tot = data[1]"
   ]
  },
  {
   "cell_type": "code",
   "execution_count": 176,
   "id": "9d340396",
   "metadata": {},
   "outputs": [],
   "source": [
    "def KMC_358_2(nsites = None,timesteps = None,cmax = None,imageflag = None): \n",
    "    \n",
    "    r1 = 0;\n",
    "    \n",
    "    rm1 = 500;\n",
    "    \n",
    "    r2 = 500;\n",
    "    \n",
    "    rm2 = 0;\n",
    "    \n",
    "    r3 = 500;\n",
    "\n",
    "    \n",
    "    # \"ar\" defines an array of the specific activities for each species: [A(s), B(s), AB2(s), *(s)]\n",
    "\n",
    "    ar = np.array([0,rm1,rm2 + r3,r1 + r2])\n",
    "\n",
    "\n",
    "    #  set up the matrices needed\n",
    "    \n",
    "    tot = np.zeros((nsites,cmax))\n",
    "\n",
    "    height = np.zeros((nsites,1))\n",
    "\n",
    "    species = np.zeros((nsites,1))\n",
    "\n",
    "    act = np.zeros((nsites,1))\n",
    "\n",
    "    aveh = np.zeros((timesteps + 1,1))\n",
    "\n",
    "    tota = np.zeros((timesteps + 1,1))\n",
    "\n",
    "    time = np.zeros((timesteps + 1,1))\n",
    "\n",
    "\n",
    "    # create initial state in which one layer of type A is covered by a layer of B\n",
    "\n",
    "    for i in np.arange(0,nsites):\n",
    "        \n",
    "        tot[i,0] = 1\n",
    "        \n",
    "        tot[i,1] = 2\n",
    "        \n",
    "        height[i] = 2\n",
    "        \n",
    "        species[i] = 2\n",
    "        \n",
    "    \n",
    "    tottime = []\n",
    "    \n",
    "    print(tot)\n",
    "    tottime.append(np.ndarray.tolist(tot))\n",
    "\n",
    "    aveh[0] = 2\n",
    "\n",
    "    time[0] = 0\n",
    "\n",
    "    tm = 0\n",
    "\n",
    "\n",
    "    #loop over the time steps\n",
    "\n",
    "    for timestep in np.arange(0,timesteps):\n",
    "        \n",
    "        # Determine the activity at each site\n",
    "        \n",
    "        for i in np.arange(0,nsites):\n",
    "\n",
    "                # Determine the total activity of the system\n",
    "\n",
    "            k = height[i]\n",
    "\n",
    "            s = species[i]            \n",
    "\n",
    "            act[i] = ar[int(s[0])-1] #FLAG\n",
    "\n",
    "            # find the activity per site divided by the total activity (the fraction)\n",
    "\n",
    "            # ss = cumulative sum of fractional activities\n",
    "\n",
    "        at = sum(act)\n",
    "\n",
    "        acta = act / at\n",
    "\n",
    "        ss = np.cumsum(acta)\n",
    "\n",
    "        tota[0] = at\n",
    "\n",
    "            # pick the site at which a reaction will occur based on random number and\n",
    "\n",
    "            # activity number line\n",
    "\n",
    "        k = 0\n",
    "\n",
    "        rand1 = rm.randint(0,1)\n",
    "\n",
    "        for j in np.arange(0,nsites-1):\n",
    "\n",
    "            if rand1 > ss[j]:\n",
    "\n",
    "                k = k + 1\n",
    "\n",
    "            # find the species and height of the selected site.\n",
    "\n",
    "        t = species[k-1]\n",
    "\n",
    "        h = height[k-1]\n",
    "\n",
    "            #use random numbers to select reaction, reset species and height\n",
    "\n",
    "        if t == 2:\n",
    "\n",
    "            tot[k-1][int(h[0])] = 4\n",
    "\n",
    "            species[k-1] = 4\n",
    "\n",
    "        else:\n",
    "\n",
    "            if t == 3:\n",
    "\n",
    "                if rm.randint(0,1) < r3 / (r3 + rm2):\n",
    "\n",
    "                    tot[k][int(h[0])] = 1\n",
    "\n",
    "                    tot[k][int(h[0])+1] = 2\n",
    "\n",
    "                    species[k] = 2\n",
    "\n",
    "                    height[k] = h + 1\n",
    "\n",
    "                else:\n",
    "\n",
    "                    tot[k][int(h[0])] = 4\n",
    "\n",
    "                    species[k] = 4\n",
    "\n",
    "            else:\n",
    "\n",
    "                if t == 4:\n",
    "\n",
    "                    if rm.randint(0,1) < r1 / (r1 + r2):\n",
    "\n",
    "                        tot[k][int(h[0])] = 2\n",
    "\n",
    "                        species[k] = 2\n",
    "\n",
    "                    else:\n",
    "\n",
    "                        tot[k][int(h[0])] = 3\n",
    "\n",
    "                        species[k] = 3\n",
    "\n",
    "            #  find change in time and total time\n",
    "\n",
    "            rand1 = rm.randint(0,1)\n",
    "\n",
    "\n",
    "            dt = - np.log(rand1 + 0.01) / (at + 0.01)\n",
    "\n",
    "            tm = tm + dt\n",
    "\n",
    "            time[timestep] = tm\n",
    "\n",
    "            sh = sum(height)\n",
    "\n",
    "            aveh[timestep] = sh / nsites\n",
    "\n",
    "            tota[timestep] = sum(act)\n",
    "\n",
    "            cat = []\n",
    "            tottime.append(np.ndarray.tolist(tot))\n",
    "            #tottime = cat.append(tot)\n",
    "\n",
    "    return tot,tottime,height,species,time,aveh,tota"
   ]
  },
  {
   "cell_type": "code",
   "execution_count": 201,
   "id": "74429606",
   "metadata": {},
   "outputs": [
    {
     "name": "stdout",
     "output_type": "stream",
     "text": [
      "[[1. 2. 0. 0. 0. 0. 0. 0. 0. 0.]\n",
      " [1. 2. 0. 0. 0. 0. 0. 0. 0. 0.]\n",
      " [1. 2. 0. 0. 0. 0. 0. 0. 0. 0.]\n",
      " [1. 2. 0. 0. 0. 0. 0. 0. 0. 0.]\n",
      " [1. 2. 0. 0. 0. 0. 0. 0. 0. 0.]]\n"
     ]
    },
    {
     "data": {
      "image/png": "[encoded data removed]",
      "text/plain": [
       "<Figure size 432x288 with 1 Axes>"
      ]
     },
     "metadata": {
      "needs_background": "light"
     },
     "output_type": "display_data"
    },
    {
     "data": {
      "image/png": "[encoded data removed]",
      "text/plain": [
       "<Figure size 432x288 with 1 Axes>"
      ]
     },
     "metadata": {
      "needs_background": "light"
     },
     "output_type": "display_data"
    },
    {
     "data": {
      "image/png": "[encoded data removed]",
      "text/plain": [
       "<Figure size 432x288 with 1 Axes>"
      ]
     },
     "metadata": {
      "needs_background": "light"
     },
     "output_type": "display_data"
    },
    {
     "data": {
      "image/png": "[encoded data removed]",
      "text/plain": [
       "<Figure size 432x288 with 1 Axes>"
      ]
     },
     "metadata": {
      "needs_background": "light"
     },
     "output_type": "display_data"
    },
    {
     "data": {
      "image/png": "[encoded data removed]",
      "text/plain": [
       "<Figure size 432x288 with 1 Axes>"
      ]
     },
     "metadata": {
      "needs_background": "light"
     },
     "output_type": "display_data"
    },
    {
     "data": {
      "image/png": "[encoded data removed]",
      "text/plain": [
       "<Figure size 432x288 with 1 Axes>"
      ]
     },
     "metadata": {
      "needs_background": "light"
     },
     "output_type": "display_data"
    },
    {
     "data": {
      "image/png": "[encoded data removed]",
      "text/plain": [
       "<Figure size 432x288 with 1 Axes>"
      ]
     },
     "metadata": {
      "needs_background": "light"
     },
     "output_type": "display_data"
    },
    {
     "data": {
      "image/png": "[encoded data removed]",
      "text/plain": [
       "<Figure size 432x288 with 1 Axes>"
      ]
     },
     "metadata": {
      "needs_background": "light"
     },
     "output_type": "display_data"
    },
    {
     "data": {
      "image/png": "[encoded data removed]",
      "text/plain": [
       "<Figure size 432x288 with 1 Axes>"
      ]
     },
     "metadata": {
      "needs_background": "light"
     },
     "output_type": "display_data"
    }
   ],
   "source": [
    "data = KMC_358_2(5,10,10,1)\n",
    "tot = data[1]\n",
    "\n",
    "for i in range(len(tot)):\n",
    "    plt.figure(i)\n",
    "    plt.imshow(tot[i],interpolation = 'none', cmap = 'gray_r')"
   ]
  },
  {
   "cell_type": "code",
   "execution_count": 193,
   "id": "e7016cea",
   "metadata": {},
   "outputs": [
    {
     "name": "stdout",
     "output_type": "stream",
     "text": [
      "{'0': [0, 0, 0], 1: [51, 51, 51], 2: [64, 64, 64], 3: [85, 85, 85], 4: [128, 128, 128], 5: [256, 256, 256]}\n"
     ]
    }
   ],
   "source": [
    "print(cmap)"
   ]
  },
  {
   "cell_type": "code",
   "execution_count": 194,
   "id": "18eb65ab",
   "metadata": {},
   "outputs": [
    {
     "name": "stdout",
     "output_type": "stream",
     "text": [
      "[[1.0, 2.0, 0.0, 0.0, 0.0, 0.0, 0.0, 0.0, 0.0, 0.0], [1.0, 2.0, 0.0, 0.0, 0.0, 0.0, 0.0, 0.0, 0.0, 0.0], [1.0, 2.0, 0.0, 0.0, 0.0, 0.0, 0.0, 0.0, 0.0, 0.0], [1.0, 2.0, 4.0, 0.0, 0.0, 0.0, 0.0, 0.0, 0.0, 0.0], [1.0, 2.0, 3.0, 0.0, 0.0, 0.0, 0.0, 0.0, 0.0, 0.0]]\n"
     ]
    }
   ],
   "source": [
    "print(tot[1])"
   ]
  },
  {
   "cell_type": "code",
   "execution_count": null,
   "id": "e04b232a",
   "metadata": {},
   "outputs": [],
   "source": []
  }
 ],
 "metadata": {
  "kernelspec": {
   "display_name": "Python 3 (ipykernel)",
   "language": "python",
   "name": "python3"
  },
  "language_info": {
   "codemirror_mode": {
    "name": "ipython",
    "version": 3
   },
   "file_extension": ".py",
   "mimetype": "text/x-python",
   "name": "python",
   "nbconvert_exporter": "python",
   "pygments_lexer": "ipython3",
   "version": "3.9.12"
  }
 },
 "nbformat": 4,
 "nbformat_minor": 5
}
